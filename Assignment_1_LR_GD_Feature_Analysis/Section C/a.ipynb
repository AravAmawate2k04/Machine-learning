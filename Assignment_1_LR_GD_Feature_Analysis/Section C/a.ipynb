{
 "cells": [
  {
   "cell_type": "code",
   "execution_count": 1,
   "id": "75805450-288a-4400-b477-f471a2a9e136",
   "metadata": {},
   "outputs": [],
   "source": [
    "import pandas as pd\n",
    "import os\n",
    "from sklearn.model_selection import train_test_split\n",
    "from imblearn.over_sampling import SMOTE\n",
    "from sklearn.preprocessing import StandardScaler\n",
    "import matplotlib.pyplot as plt\n",
    "import seaborn as sns\n",
    "import pandas as pd\n",
    "\n",
    "data = pd.read_csv('Electricity BILL.csv')\n",
    "\n"
   ]
  },
  {
   "cell_type": "code",
   "execution_count": 2,
   "id": "4a35a1d1-704a-414e-be75-6d93ab937382",
   "metadata": {},
   "outputs": [],
   "source": [
    "plot_dirs = ['pair_plots', 'box_plots', 'violin_plots', 'count_plots', 'correlation_heatmaps']\n",
    "for dir in plot_dirs:\n",
    "    if not os.path.exists(dir):\n",
    "        os.makedirs(dir)\n"
   ]
  },
  {
   "cell_type": "markdown",
   "id": "d4469f76-5d71-488e-969c-ed60554b7ebe",
   "metadata": {},
   "source": [
    "A pair plot ."
   ]
  },
  {
   "cell_type": "code",
   "execution_count": 3,
   "id": "c9222056-42e3-465f-9c5d-53b4d4ba9a65",
   "metadata": {},
   "outputs": [],
   "source": [
    "sns.pairplot(data)\n",
    "plt.title('Pair Plots of Numerical Features')\n",
    "plt.savefig('pair_plots/pair_plots.png')\n",
    "plt.close()\n"
   ]
  },
  {
   "cell_type": "markdown",
   "id": "6b3c65ed-d47a-4c7e-9655-401385863aef",
   "metadata": {},
   "source": [
    "A box plot visualizes the distribution and detects outliers in numerical features."
   ]
  },
  {
   "cell_type": "code",
   "execution_count": 4,
   "id": "095c10be-8771-41e7-89e8-91d435083cb6",
   "metadata": {},
   "outputs": [],
   "source": [
    "numerical_features = data.select_dtypes(include=['float64', 'int64']).columns\n",
    "\n",
    "for feature in numerical_features:\n",
    "    plt.figure(figsize=(8, 6))\n",
    "    sns.boxplot(x=data[feature])\n",
    "    plt.title(f'Box Plot of {feature}')\n",
    "    plt.savefig(f'box_plots/box_plot_{feature}.png')\n",
    "    plt.close()\n"
   ]
  },
  {
   "cell_type": "markdown",
   "id": "d1c2a0ad-318f-4bc1-8503-b71568ef6330",
   "metadata": {},
   "source": [
    "A violin plot shows the distribution of the data for numerical variables, combining the density plot and box plot."
   ]
  },
  {
   "cell_type": "code",
   "execution_count": 5,
   "id": "10d206c5-53b7-4b74-87cd-2b311cdbd0c9",
   "metadata": {},
   "outputs": [],
   "source": [
    "for feature in numerical_features:\n",
    "    plt.figure(figsize=(8, 6))\n",
    "    sns.violinplot(x=data[feature])\n",
    "    plt.title(f'Violin Plot of {feature}')\n",
    "    plt.savefig(f'violin_plots/violin_plot_{feature}.png')\n",
    "    plt.close()\n"
   ]
  },
  {
   "cell_type": "markdown",
   "id": "7fc2182a-040d-495b-a326-fcac63ecc456",
   "metadata": {},
   "source": [
    "Count plots are useful for visualizing the distribution of categorical features."
   ]
  },
  {
   "cell_type": "code",
   "execution_count": 6,
   "id": "60b4b784-63bc-4087-8ddc-90ed1fdc3d06",
   "metadata": {},
   "outputs": [],
   "source": [
    "categorical_features = data.select_dtypes(include=['object']).columns\n",
    "\n",
    "for feature in categorical_features:\n",
    "    plt.figure(figsize=(10, 6))\n",
    "    sns.countplot(y=data[feature])\n",
    "    plt.title(f'Count Plot of {feature}')\n",
    "    plt.savefig(f'count_plots/count_plot_{feature}.png')\n",
    "    plt.close()\n"
   ]
  },
  {
   "cell_type": "markdown",
   "id": "891de311-2dd9-4763-b76a-d6a46068045f",
   "metadata": {},
   "source": [
    "A heatmap visualizes the correlation matrix of numerical variables."
   ]
  },
  {
   "cell_type": "code",
   "execution_count": 7,
   "id": "e02a5687-b483-4a7d-a4f8-cb10b4c78710",
   "metadata": {},
   "outputs": [],
   "source": [
    "# Select only numeric columns for correlation\n",
    "numeric_data = data.select_dtypes(include=['float64', 'int64'])\n",
    "\n",
    "correlation_matrix = numeric_data.corr()\n"
   ]
  },
  {
   "cell_type": "code",
   "execution_count": 8,
   "id": "d9adbff1-afab-4ec6-b3e9-eedbc26faba0",
   "metadata": {},
   "outputs": [],
   "source": [
    "\n",
    "plt.figure(figsize=(12, 10))\n",
    "sns.heatmap(correlation_matrix, annot=True, cmap='coolwarm', fmt='.2f')\n",
    "plt.title('Correlation Heatmap')\n",
    "plt.savefig('correlation_heatmaps/correlation_heatmap.png')\n",
    "plt.close()\n"
   ]
  }
 ],
 "metadata": {
  "kernelspec": {
   "display_name": "Python 3 (ipykernel)",
   "language": "python",
   "name": "python3"
  },
  "language_info": {
   "codemirror_mode": {
    "name": "ipython",
    "version": 3
   },
   "file_extension": ".py",
   "mimetype": "text/x-python",
   "name": "python",
   "nbconvert_exporter": "python",
   "pygments_lexer": "ipython3",
   "version": "3.12.1"
  }
 },
 "nbformat": 4,
 "nbformat_minor": 5
}
