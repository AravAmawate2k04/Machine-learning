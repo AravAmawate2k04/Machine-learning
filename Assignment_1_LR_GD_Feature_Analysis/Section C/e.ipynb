{
 "cells": [
  {
   "cell_type": "code",
   "execution_count": 3,
   "id": "c6cb1994",
   "metadata": {},
   "outputs": [],
   "source": [
    "import numpy as np\n",
    "import pandas as pd\n",
    "from sklearn.model_selection import train_test_split\n",
    "from sklearn.preprocessing import StandardScaler, LabelEncoder\n",
    "from sklearn.linear_model import LinearRegression\n",
    "from sklearn.metrics import mean_squared_error, mean_absolute_error, r2_score\n",
    "from sklearn.preprocessing import OneHotEncoder, StandardScaler\n",
    "from sklearn.linear_model import Ridge"
   ]
  },
  {
   "cell_type": "code",
   "execution_count": 4,
   "id": "394f0240-d9fc-4a71-9a32-c170dc360de5",
   "metadata": {},
   "outputs": [],
   "source": [
    "data = pd.read_csv('Electricity BILL.csv')\n",
    "    \n",
    "X = data.drop('Electricity_Bill', axis=1)\n",
    "y = data['Electricity_Bill']"
   ]
  },
  {
   "cell_type": "code",
   "execution_count": 5,
   "id": "2078209b-2025-4ae2-8bd5-933b988c859a",
   "metadata": {},
   "outputs": [
    {
     "name": "stdout",
     "output_type": "stream",
     "text": [
      "Train MSE: 24188925.913294327\n",
      "Test MSE: 24129688.93419977\n",
      "Train RMSE: 4918.223857582565\n",
      "Test RMSE: 4912.197973840201\n",
      "Train MAE: 3976.6837323582586\n",
      "Test MAE: 3797.4628337330823\n",
      "Train R2: 0.025448733209262442\n",
      "Test R2: 0.006146644659019929\n",
      "Train Adjusted R2: 0.00655437191433994\n",
      "Test Adjusted R2: -0.07595428469523502\n"
     ]
    }
   ],
   "source": [
    "categorical_features = X.select_dtypes(include=['object']).columns\n",
    "numerical_features = X.select_dtypes(exclude=['object']).columns\n",
    "\n",
    "one_hot_encoder = OneHotEncoder(drop='first', sparse_output=False)  \n",
    "X_categorical_encoded = one_hot_encoder.fit_transform(X[categorical_features])\n",
    "\n",
    "X_categorical_encoded_df = pd.DataFrame(X_categorical_encoded, columns=one_hot_encoder.get_feature_names_out(categorical_features))\n",
    "X_numerical = X[numerical_features].reset_index(drop=True)\n",
    "X_encoded = pd.concat([X_numerical, X_categorical_encoded_df], axis=1)\n",
    "\n",
    "X_train, X_test, y_train, y_test = train_test_split(X_encoded, y, test_size=0.2, random_state=42)\n",
    "\n",
    "scaler = StandardScaler()\n",
    "X_train = scaler.fit_transform(X_train)\n",
    "X_test = scaler.transform(X_test)\n",
    "\n",
    "ridge_model = Ridge(alpha=1.0) \n",
    "\n",
    "ridge_model.fit(X_train, y_train)\n",
    "\n",
    "y_train_pred = ridge_model.predict(X_train)\n",
    "y_test_pred = ridge_model.predict(X_test)\n",
    "\n",
    "train_mse = mean_squared_error(y_train, y_train_pred)\n",
    "test_mse = mean_squared_error(y_test, y_test_pred)\n",
    "train_rmse = np.sqrt(train_mse)\n",
    "test_rmse = np.sqrt(test_mse)\n",
    "train_mae = mean_absolute_error(y_train, y_train_pred)\n",
    "test_mae = mean_absolute_error(y_test, y_test_pred)\n",
    "train_r2 = r2_score(y_train, y_train_pred)\n",
    "test_r2 = r2_score(y_test, y_test_pred)\n",
    "\n",
    "def adjusted_r2(r2, X, y):\n",
    "    n = X.shape[0]\n",
    "    p = X.shape[1]\n",
    "    return 1 - (1 - r2) * (n - 1) / (n - p - 1)\n",
    "\n",
    "train_adjusted_r2 = adjusted_r2(train_r2, X_train, y_train)\n",
    "test_adjusted_r2 = adjusted_r2(test_r2, X_test, y_test)\n",
    "\n",
    "print(\"Train MSE:\", train_mse)\n",
    "print(\"Test MSE:\", test_mse)\n",
    "print(\"Train RMSE:\", train_rmse)\n",
    "print(\"Test RMSE:\", test_rmse)\n",
    "print(\"Train MAE:\", train_mae)\n",
    "print(\"Test MAE:\", test_mae)\n",
    "print(\"Train R2:\", train_r2)\n",
    "print(\"Test R2:\", test_r2)\n",
    "print(\"Train Adjusted R2:\", train_adjusted_r2)\n",
    "print(\"Test Adjusted R2:\", test_adjusted_r2)\n"
   ]
  },
  {
   "cell_type": "code",
   "execution_count": null,
   "id": "00c5719f-153e-4fca-9c65-63d3bdd49d16",
   "metadata": {},
   "outputs": [],
   "source": []
  }
 ],
 "metadata": {
  "kernelspec": {
   "display_name": "Python 3 (ipykernel)",
   "language": "python",
   "name": "python3"
  },
  "language_info": {
   "codemirror_mode": {
    "name": "ipython",
    "version": 3
   },
   "file_extension": ".py",
   "mimetype": "text/x-python",
   "name": "python",
   "nbconvert_exporter": "python",
   "pygments_lexer": "ipython3",
   "version": "3.12.1"
  }
 },
 "nbformat": 4,
 "nbformat_minor": 5
}
