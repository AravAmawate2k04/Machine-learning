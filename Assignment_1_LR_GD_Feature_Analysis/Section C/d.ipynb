{
 "cells": [
  {
   "cell_type": "code",
   "execution_count": 3,
   "id": "55b525be",
   "metadata": {},
   "outputs": [],
   "source": [
    "import numpy as np\n",
    "import pandas as pd\n",
    "from sklearn.feature_selection import RFE\n",
    "from sklearn.model_selection import train_test_split\n",
    "from sklearn.preprocessing import StandardScaler, LabelEncoder\n",
    "from sklearn.linear_model import LinearRegression\n",
    "from sklearn.metrics import mean_squared_error, mean_absolute_error, r2_score"
   ]
  },
  {
   "cell_type": "code",
   "execution_count": 4,
   "id": "6017107e-46e9-4b82-b8b4-9b4697ce2122",
   "metadata": {},
   "outputs": [],
   "source": [
    "data = pd.read_csv('Electricity BILL.csv')\n",
    "    \n",
    "X = data.drop('Electricity_Bill', axis=1)\n",
    "y = data['Electricity_Bill']"
   ]
  },
  {
   "cell_type": "code",
   "execution_count": 5,
   "id": "984e8cab-453a-4568-93eb-342806089356",
   "metadata": {},
   "outputs": [
    {
     "name": "stdout",
     "output_type": "stream",
     "text": [
      "Selected Features: ['Building_Type' 'Green_Certified' 'Number_of_Residents']\n",
      "Train MSE: 24569032.90689799\n",
      "Test MSE: 23941409.06299838\n",
      "Train RMSE: 4956.715939702212\n",
      "Test RMSE: 4892.995918964002\n",
      "Train MAE: 4006.473377514736\n",
      "Test MAE: 3813.948128176773\n",
      "Train R2: 0.010134545491283897\n",
      "Test R2: 0.013901513867940918\n",
      "Train Adjusted R2: 0.007153023037944406\n",
      "Test Adjusted R2: 0.0018759225736475482\n"
     ]
    }
   ],
   "source": [
    "# Encode categorical variables using LabelEncoder\n",
    "label_encoders = {}\n",
    "for column in X.select_dtypes(include=['object']).columns:\n",
    "    label_encoders[column] = LabelEncoder()\n",
    "    X[column] = label_encoders[column].fit_transform(X[column])\n",
    "\n",
    "X_train, X_test, y_train, y_test = train_test_split(X, y, test_size=0.2, random_state=42)\n",
    "\n",
    "scaler = StandardScaler()\n",
    "X_train = scaler.fit_transform(X_train)\n",
    "X_test = scaler.transform(X_test)\n",
    "\n",
    "model = LinearRegression()\n",
    "\n",
    "rfe = RFE(model, n_features_to_select=3)\n",
    "rfe = rfe.fit(X_train, y_train)\n",
    "\n",
    "selected_features = np.array(X.columns)[rfe.support_]\n",
    "print(f\"Selected Features: {selected_features}\")\n",
    "\n",
    "X_train_selected = X_train[:, rfe.support_]\n",
    "X_test_selected = X_test[:, rfe.support_]\n",
    "\n",
    "model.fit(X_train_selected, y_train)\n",
    "\n",
    "y_train_pred = model.predict(X_train_selected)\n",
    "y_test_pred = model.predict(X_test_selected)\n",
    "\n",
    "train_mse = mean_squared_error(y_train, y_train_pred)\n",
    "test_mse = mean_squared_error(y_test, y_test_pred)\n",
    "train_rmse = np.sqrt(train_mse)\n",
    "test_rmse = np.sqrt(test_mse)\n",
    "train_mae = mean_absolute_error(y_train, y_train_pred)\n",
    "test_mae = mean_absolute_error(y_test, y_test_pred)\n",
    "train_r2 = r2_score(y_train, y_train_pred)\n",
    "test_r2 = r2_score(y_test, y_test_pred)\n",
    "\n",
    "def adjusted_r2(r2, X, y):\n",
    "    n = X.shape[0]\n",
    "    p = X.shape[1]\n",
    "    return 1 - (1 - r2) * (n - 1) / (n - p - 1)\n",
    "\n",
    "train_adjusted_r2 = adjusted_r2(train_r2, X_train_selected, y_train)\n",
    "test_adjusted_r2 = adjusted_r2(test_r2, X_test_selected, y_test)\n",
    "\n",
    "print(\"Train MSE:\", train_mse)\n",
    "print(\"Test MSE:\", test_mse)\n",
    "print(\"Train RMSE:\", train_rmse)\n",
    "print(\"Test RMSE:\", test_rmse)\n",
    "print(\"Train MAE:\", train_mae)\n",
    "print(\"Test MAE:\", test_mae)\n",
    "print(\"Train R2:\", train_r2)\n",
    "print(\"Test R2:\", test_r2)\n",
    "print(\"Train Adjusted R2:\", train_adjusted_r2)\n",
    "print(\"Test Adjusted R2:\", test_adjusted_r2)\n"
   ]
  },
  {
   "cell_type": "code",
   "execution_count": null,
   "id": "e1deb8b7-9b79-4bbc-9a50-e4b3da3a6116",
   "metadata": {},
   "outputs": [],
   "source": []
  }
 ],
 "metadata": {
  "kernelspec": {
   "display_name": "Python 3 (ipykernel)",
   "language": "python",
   "name": "python3"
  },
  "language_info": {
   "codemirror_mode": {
    "name": "ipython",
    "version": 3
   },
   "file_extension": ".py",
   "mimetype": "text/x-python",
   "name": "python",
   "nbconvert_exporter": "python",
   "pygments_lexer": "ipython3",
   "version": "3.12.1"
  }
 },
 "nbformat": 4,
 "nbformat_minor": 5
}
