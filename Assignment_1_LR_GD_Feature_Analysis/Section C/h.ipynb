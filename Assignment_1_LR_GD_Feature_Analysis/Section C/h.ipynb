{
 "cells": [
  {
   "cell_type": "code",
   "execution_count": 4,
   "id": "f3b5f8e3",
   "metadata": {},
   "outputs": [],
   "source": [
    "import pandas as pd\n",
    "from sklearn.model_selection import train_test_split\n",
    "from sklearn.linear_model import ElasticNet\n",
    "from sklearn.preprocessing import StandardScaler, LabelEncoder,OneHotEncoder\n",
    "from sklearn.metrics import mean_squared_error, mean_absolute_error, r2_score\n",
    "from sklearn.linear_model import Ridge"
   ]
  },
  {
   "cell_type": "code",
   "execution_count": 5,
   "id": "db3f702a-2d05-418c-a7df-45efc30f8974",
   "metadata": {},
   "outputs": [],
   "source": [
    "data = pd.read_csv('Electricity BILL.csv')\n",
    "X = data.drop('Electricity_Bill', axis=1)\n",
    "y = data['Electricity_Bill']\n",
    "\n",
    "categorical_features = X.select_dtypes(include=['object']).columns\n",
    "numerical_features = X.select_dtypes(exclude=['object']).columns\n",
    "\n",
    "one_hot_encoder = OneHotEncoder(drop='first', sparse_output=False)  \n",
    "X_categorical_encoded = one_hot_encoder.fit_transform(X[categorical_features])\n",
    "\n",
    "X_categorical_encoded_df = pd.DataFrame(X_categorical_encoded, columns=one_hot_encoder.get_feature_names_out(categorical_features))\n",
    "X_numerical = X[numerical_features].reset_index(drop=True)\n",
    "X_encoded = pd.concat([X_numerical, X_categorical_encoded_df], axis=1)\n",
    "\n",
    "X_train, X_test, y_train, y_test = train_test_split(X_encoded, y, test_size=0.2, random_state=42)\n",
    "\n",
    "scaler = StandardScaler()\n",
    "X_train = scaler.fit_transform(X_train)\n",
    "X_test = scaler.transform(X_test)\n"
   ]
  },
  {
   "cell_type": "code",
   "execution_count": 6,
   "id": "b1d31309-d2fa-440e-823a-6035606eed4f",
   "metadata": {},
   "outputs": [],
   "source": [
    "\n",
    "def evaluate_gradient_boosting(X_train, X_test, y_train, y_test):\n",
    "    gbr = GradientBoostingRegressor(random_state=42)\n",
    "    \n",
    "    gbr.fit(X_train, y_train)\n",
    "    \n",
    "    y_train_pred = gbr.predict(X_train)\n",
    "    y_test_pred = gbr.predict(X_test)\n",
    "    \n",
    "    train_mse = mean_squared_error(y_train, y_train_pred)\n",
    "    train_rmse = np.sqrt(train_mse)\n",
    "    train_mae = mean_absolute_error(y_train, y_train_pred)\n",
    "    train_r2 = r2_score(y_train, y_train_pred)\n",
    "    train_adjusted_r2 = 1 - (1 - train_r2) * (len(y_train) - 1) / (len(y_train) - X_train.shape[1] - 1)\n",
    "    \n",
    "    test_mse = mean_squared_error(y_test, y_test_pred)\n",
    "    test_rmse = np.sqrt(test_mse)\n",
    "    test_mae = mean_absolute_error(y_test, y_test_pred)\n",
    "    test_r2 = r2_score(y_test, y_test_pred)\n",
    "    test_adjusted_r2 = 1 - (1 - test_r2) * (len(y_test) - 1) / (len(y_test) - X_test.shape[1] - 1)\n",
    "    \n",
    "    print(f\"=== Gradient Boosting Regressor ===\")\n",
    "    print(f\"Train MSE: {train_mse}\")\n",
    "    print(f\"Test MSE: {test_mse}\")\n",
    "    print(f\"Train RMSE: {train_rmse}\")\n",
    "    print(f\"Test RMSE: {test_rmse}\")\n",
    "    print(f\"Train MAE: {train_mae}\")\n",
    "    print(f\"Test MAE: {test_mae}\")\n",
    "    print(f\"Train R2: {train_r2}\")\n",
    "    print(f\"Test R2: {test_r2}\")\n",
    "    print(f\"Train Adjusted R2: {train_adjusted_r2}\")\n",
    "    print(f\"Test Adjusted R2: {test_adjusted_r2}\")\n",
    "    \n",
    "    return {\n",
    "        'train_mse': train_mse, 'test_mse': test_mse,\n",
    "        'train_rmse': train_rmse, 'test_rmse': test_rmse,\n",
    "        'train_mae': train_mae, 'test_mae': test_mae,\n",
    "        'train_r2': train_r2, 'test_r2': test_r2,\n",
    "        'train_adjusted_r2': train_adjusted_r2, 'test_adjusted_r2': test_adjusted_r2\n",
    "    }\n"
   ]
  },
  {
   "cell_type": "code",
   "execution_count": 7,
   "id": "a3ec7491-f53c-452a-9780-82cc6a6a0d03",
   "metadata": {},
   "outputs": [
    {
     "name": "stdout",
     "output_type": "stream",
     "text": [
      "=== Gradient Boosting Regressor ===\n",
      "Train MSE: 15548098.780395458\n",
      "Test MSE: 24763212.870917924\n",
      "Train RMSE: 3943.1077566299728\n",
      "Test RMSE: 4976.26495184068\n",
      "Train MAE: 3155.777526146695\n",
      "Test MAE: 3837.5378752506076\n",
      "Train R2: 0.37358031452342877\n",
      "Test R2: -0.019946932092554936\n",
      "Train Adjusted R2: 0.3614354430703116\n",
      "Test Adjusted R2: -0.10420341778715736\n"
     ]
    }
   ],
   "source": [
    "gbr_results = evaluate_gradient_boosting(X_train, X_test, y_train, y_test)\n"
   ]
  },
  {
   "cell_type": "code",
   "execution_count": null,
   "id": "e8a68c83-88ee-4089-85e3-839b8c9221f9",
   "metadata": {},
   "outputs": [],
   "source": []
  }
 ],
 "metadata": {
  "kernelspec": {
   "display_name": "Python 3 (ipykernel)",
   "language": "python",
   "name": "python3"
  },
  "language_info": {
   "codemirror_mode": {
    "name": "ipython",
    "version": 3
   },
   "file_extension": ".py",
   "mimetype": "text/x-python",
   "name": "python",
   "nbconvert_exporter": "python",
   "pygments_lexer": "ipython3",
   "version": "3.12.1"
  }
 },
 "nbformat": 4,
 "nbformat_minor": 5
}
