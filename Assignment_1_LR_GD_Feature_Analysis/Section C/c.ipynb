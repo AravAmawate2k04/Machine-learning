{
 "cells": [
  {
   "cell_type": "code",
   "execution_count": 13,
   "id": "0a0588ad",
   "metadata": {},
   "outputs": [],
   "source": [
    "import numpy as np\n",
    "import pandas as pd\n",
    "from sklearn.model_selection import train_test_split\n",
    "from sklearn.preprocessing import StandardScaler, LabelEncoder\n",
    "from sklearn.linear_model import LinearRegression\n",
    "from sklearn.metrics import mean_squared_error, mean_absolute_error, r2_score\n",
    "import pandas as pd"
   ]
  },
  {
   "cell_type": "code",
   "execution_count": 14,
   "id": "a71358d0-66c7-4fe8-a140-dc1e4dfe15b1",
   "metadata": {},
   "outputs": [],
   "source": [
    "\n",
    "data = pd.read_csv('Electricity BILL.csv')\n",
    "\n",
    "    \n",
    "X = data.drop('Electricity_Bill', axis=1)\n",
    "y = data['Electricity_Bill']"
   ]
  },
  {
   "cell_type": "code",
   "execution_count": 15,
   "id": "a594012e-60ff-4329-83f2-1b668062c55c",
   "metadata": {},
   "outputs": [
    {
     "name": "stdout",
     "output_type": "stream",
     "text": [
      "Building_Type                   object\n",
      "Construction_Year                int64\n",
      "Number_of_Floors                 int64\n",
      "Energy_Consumption_Per_SqM     float64\n",
      "Water_Usage_Per_Building       float64\n",
      "Waste_Recycled_Percentage      float64\n",
      "Occupancy_Rate                 float64\n",
      "Indoor_Air_Quality             float64\n",
      "Smart_Devices_Count              int64\n",
      "Green_Certified                  int64\n",
      "Maintenance_Resolution_Time    float64\n",
      "Building_Status                 object\n",
      "Maintenance_Priority            object\n",
      "Energy_Per_SqM                 float64\n",
      "Number_of_Residents              int64\n",
      "dtype: object\n",
      "   Building_Type  Construction_Year  Number_of_Floors  \\\n",
      "0    Residential               1989                12   \n",
      "1  Institutional               1980                 6   \n",
      "2     Industrial               2006                10   \n",
      "3     Commercial               1985                 1   \n",
      "4     Industrial               2006                12   \n",
      "\n",
      "   Energy_Consumption_Per_SqM  Water_Usage_Per_Building  \\\n",
      "0                   50.000000                477.681762   \n",
      "1                  225.759107                200.000000   \n",
      "2                   98.755927                200.000000   \n",
      "3                   68.470692                200.000000   \n",
      "4                   50.000000                347.093644   \n",
      "\n",
      "   Waste_Recycled_Percentage  Occupancy_Rate  Indoor_Air_Quality  \\\n",
      "0                  48.417266       81.814110           13.780635   \n",
      "1                  46.405516       45.109000           10.177771   \n",
      "2                  17.247585       48.526225           27.757026   \n",
      "3                  57.719480       76.335921            1.519812   \n",
      "4                  26.936862       96.511319            1.874753   \n",
      "\n",
      "   Smart_Devices_Count  Green_Certified  Maintenance_Resolution_Time  \\\n",
      "0                    6                0                     7.211768   \n",
      "1                   10                0                    34.139492   \n",
      "2                    2                1                     6.224612   \n",
      "3                    2                0                     5.327398   \n",
      "4                   19                0                     7.060854   \n",
      "\n",
      "     Building_Status Maintenance_Priority  Energy_Per_SqM  Number_of_Residents  \n",
      "0  Under Maintenance                 High      174.835708                  360  \n",
      "1  Under Maintenance                 High      143.086785                   91  \n",
      "2        Operational               Medium      182.384427                  115  \n",
      "3             Closed                  Low      226.151493                  159  \n",
      "4             Closed               Medium      138.292331                  258  \n"
     ]
    }
   ],
   "source": [
    "\n",
    "print(X.dtypes)\n",
    "print(X.head())\n"
   ]
  },
  {
   "cell_type": "code",
   "execution_count": 16,
   "id": "5f4e6de2-38ab-424f-abde-94af8ce78992",
   "metadata": {},
   "outputs": [],
   "source": [
    "#for numerical columns\n",
    "numerical_columns = X.select_dtypes(include=['int64', 'float64']).columns\n",
    "\n",
    "X[numerical_columns] = X[numerical_columns].fillna(X[numerical_columns].mean())\n",
    "\n",
    "scaler = StandardScaler()\n",
    "X[numerical_columns] = scaler.fit_transform(X[numerical_columns])\n"
   ]
  },
  {
   "cell_type": "code",
   "execution_count": 17,
   "id": "e5c9bfeb-3e1e-41f5-8647-0ab5b8944a23",
   "metadata": {},
   "outputs": [],
   "source": [
    "#for categorical columns\n",
    "categorical_columns = X.select_dtypes(include=['object']).columns\n",
    "\n",
    "le = LabelEncoder()\n",
    "\n",
    "for col in categorical_columns:\n",
    "    X[col] = X[col].fillna(X[col].mode()[0])\n",
    "    # Convert to string before encoding\n",
    "    X[col] = X[col].astype(str)\n",
    "    X[col] = le.fit_transform(X[col])\n",
    "X_train, X_test, y_train, y_test = train_test_split(X, y, test_size=0.2, random_state=42)\n"
   ]
  },
  {
   "cell_type": "code",
   "execution_count": 18,
   "id": "30a3d036-6811-4b6d-9904-95940c7bed77",
   "metadata": {},
   "outputs": [
    {
     "name": "stdout",
     "output_type": "stream",
     "text": [
      "Building_Type                    int32\n",
      "Construction_Year              float64\n",
      "Number_of_Floors               float64\n",
      "Energy_Consumption_Per_SqM     float64\n",
      "Water_Usage_Per_Building       float64\n",
      "Waste_Recycled_Percentage      float64\n",
      "Occupancy_Rate                 float64\n",
      "Indoor_Air_Quality             float64\n",
      "Smart_Devices_Count            float64\n",
      "Green_Certified                float64\n",
      "Maintenance_Resolution_Time    float64\n",
      "Building_Status                  int32\n",
      "Maintenance_Priority             int32\n",
      "Energy_Per_SqM                 float64\n",
      "Number_of_Residents            float64\n",
      "dtype: object\n"
     ]
    }
   ],
   "source": [
    "\n",
    "print(X.dtypes)"
   ]
  },
  {
   "cell_type": "code",
   "execution_count": 19,
   "id": "71ef912d-015d-4b5b-b75c-50f642238b23",
   "metadata": {},
   "outputs": [
    {
     "name": "stdout",
     "output_type": "stream",
     "text": [
      "Train MSE: 24475013.16847547\n",
      "Test MSE: 24278016.155742623\n",
      "Train RMSE: 4947.222773281538\n",
      "Test RMSE: 4927.272689403604\n",
      "Train MAE: 4006.32846932936\n",
      "Test MAE: 3842.409312558516\n",
      "Train R2: 0.013922520844610209\n",
      "Test R2: 3.7344733075372893e-05\n",
      "Train Adjusted R2: -0.0011091480449536562\n",
      "Test Adjusted R2: -0.0640628254763429\n"
     ]
    }
   ],
   "source": [
    "model = LinearRegression()\n",
    "\n",
    "model.fit(X_train, y_train)\n",
    "\n",
    "y_train_pred = model.predict(X_train)\n",
    "y_test_pred = model.predict(X_test)\n",
    "\n",
    "mse_train = mean_squared_error(y_train, y_train_pred)\n",
    "mse_test = mean_squared_error(y_test, y_test_pred)\n",
    "\n",
    "rmse_train = np.sqrt(mse_train)\n",
    "rmse_test = np.sqrt(mse_test)\n",
    "\n",
    "mae_train = mean_absolute_error(y_train, y_train_pred)\n",
    "mae_test = mean_absolute_error(y_test, y_test_pred)\n",
    "\n",
    "r2_train = r2_score(y_train, y_train_pred)\n",
    "r2_test = r2_score(y_test, y_test_pred)\n",
    "\n",
    "n_train = X_train.shape[0]\n",
    "p_train = X_train.shape[1]\n",
    "\n",
    "n_test = X_test.shape[0]\n",
    "p_test = X_test.shape[1]\n",
    "\n",
    "adjusted_r2_train = 1 - (1 - r2_train) * (n_train - 1) / (n_train - p_train - 1)\n",
    "adjusted_r2_test = 1 - (1 - r2_test) * (n_test - 1) / (n_test - p_test - 1)\n",
    "\n",
    "print(f\"Train MSE: {mse_train}\")\n",
    "print(f\"Test MSE: {mse_test}\")\n",
    "print(f\"Train RMSE: {rmse_train}\")\n",
    "print(f\"Test RMSE: {rmse_test}\")\n",
    "print(f\"Train MAE: {mae_train}\")\n",
    "print(f\"Test MAE: {mae_test}\")\n",
    "print(f\"Train R2: {r2_train}\")\n",
    "print(f\"Test R2: {r2_test}\")\n",
    "print(f\"Train Adjusted R2: {adjusted_r2_train}\")\n",
    "print(f\"Test Adjusted R2: {adjusted_r2_test}\")"
   ]
  },
  {
   "cell_type": "code",
   "execution_count": null,
   "id": "56f74e4f-6dc8-4789-b0ee-905f0431451e",
   "metadata": {},
   "outputs": [],
   "source": []
  }
 ],
 "metadata": {
  "kernelspec": {
   "display_name": "Python 3 (ipykernel)",
   "language": "python",
   "name": "python3"
  },
  "language_info": {
   "codemirror_mode": {
    "name": "ipython",
    "version": 3
   },
   "file_extension": ".py",
   "mimetype": "text/x-python",
   "name": "python",
   "nbconvert_exporter": "python",
   "pygments_lexer": "ipython3",
   "version": "3.12.1"
  }
 },
 "nbformat": 4,
 "nbformat_minor": 5
}
